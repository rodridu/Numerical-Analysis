{
 "cells": [
  {
   "cell_type": "markdown",
   "metadata": {},
   "source": [
    "# I. Linear least squares approximation"
   ]
  },
  {
   "cell_type": "markdown",
   "metadata": {},
   "source": [
    "Consider a function $y = f(x)$ which is defined by a set of values $y_0, y_1, \\cdots, y_n$ at points $x_0, x_1, \\cdots, x_n$."
   ]
  },
  {
   "cell_type": "code",
   "execution_count": 1,
   "metadata": {},
   "outputs": [],
   "source": [
    "x = [-1, -0.7, -0.43, -0.14, -0.14, 0.43, 0.71, 1, 1.29, 1.57, 1.86, 2.14, 2.43, 2.71, 3]\n",
    "y = [-2.25, -0.77, 0.21, 0.44, 0.64, 0.03, -0.22, -0.84, -1.2, -1.03, -0.37, 0.61, 2.67, 5.04, 8.90]"
   ]
  },
  {
   "cell_type": "markdown",
   "metadata": {},
   "source": [
    "### I.I. Find a best fit polynomial\n",
    "\n",
    "$$\n",
    "P_m(x) = a_0 + a_1 x + \\cdots + a_m x^m\n",
    "$$\n",
    "\n",
    "using the linear least squares approach. To this end\n",
    "\n",
    "1. implement a function which constructs the design matrix using $1, x, \\cdots, x^m$ as the basis functions.\n",
    "\n",
    "2. construct explicitly the normal system of equations of the linear least squares problem at fixed $m$.\n",
    "\n",
    "3. Solve the normal equations to find the coefficients of $P_m(x)$ for $m = 0, 1, 2, \\dots$. For the linear algebra problem, you can either use library functions (`numpy.linalg.solve`) or your LU factorization code from week 1.\n",
    "\n",
    "(20% of the total grade)"
   ]
  },
  {
   "cell_type": "code",
   "execution_count": 2,
   "metadata": {},
   "outputs": [],
   "source": [
    "import numpy as np\n",
    "\n",
    "def pol_design_matrix(x, m):\n",
    "    '''\n",
    "    Constructing design polynolial matrix for given nodes and power\n",
    "    '''\n",
    "    x = np.array(x)\n",
    "    A = []\n",
    "    for k in range(m + 1):\n",
    "        A.append(x**k)\n",
    "        \n",
    "    return np.array(A).T\n",
    "\n",
    "def normal_equiation_solution(A,b):\n",
    "    x = np.dot(np.linalg.inv(A.T @ A) @ A.T, b)\n",
    "    res = np.linalg.norm(A @ x - b)\n",
    "    return x, res\n",
    "ms = range(1,10)\n",
    "coef = [normal_equiation_solution(pol_design_matrix(x,m), y) for m in ms]"
   ]
  },
  {
   "cell_type": "markdown",
   "metadata": {},
   "source": [
    "### I.II \n",
    "\n",
    "To find the optimal value of m, use the following criterion: take $m=0, 1, 2, \\dots$, for each value of $m$ compute \n",
    "\n",
    "$$\n",
    "\\sigma_m^2 = \\frac{1}{n - m} \\sum_{k=0}^n \\left( P_m(x_k) - y_k \\right)^2\n",
    "$$\n",
    "\n",
    "And take the value of $m$, at which $\\sigma_m$ stabilizes or starts increasing.\n",
    "\n",
    "(20% of the total grade)"
   ]
  },
  {
   "cell_type": "code",
   "execution_count": 3,
   "metadata": {},
   "outputs": [
    {
     "name": "stdout",
     "output_type": "stream",
     "text": [
      "0.5638018817879079\n",
      "0.4344250840593079\n",
      "0.03223727022631268\n",
      "0.03365656437864147\n",
      "0.035496562200205625\n",
      "0.035886880457296426\n",
      "0.039193497159026314\n",
      "0.04065424160744098\n",
      "0.046423853750164744\n"
     ]
    }
   ],
   "source": [
    "for a in coef:\n",
    "    print(a[1] / (16 - len(a[0])))"
   ]
  },
  {
   "cell_type": "markdown",
   "metadata": {},
   "source": [
    "Plot your polynomials $P_m(x)$ on one plot, together with the datapoints. Visually compare best-fit polynomials of different degrees. Is the visual comparison consistent with the optimal value of $m$?"
   ]
  },
  {
   "cell_type": "code",
   "execution_count": 4,
   "metadata": {},
   "outputs": [
    {
     "data": {
      "image/png": "[encoded data removed]",
      "text/plain": [
       "<Figure size 432x288 with 1 Axes>"
      ]
     },
     "metadata": {
      "needs_background": "light"
     },
     "output_type": "display_data"
    }
   ],
   "source": [
    "import numpy.polynomial.polynomial as pm\n",
    "import matplotlib.pyplot as plt\n",
    "\n",
    "plt.scatter(x,y)\n",
    "\n",
    "for pol in coef:\n",
    "    pl = pm.polyval(x,pol[0])\n",
    "    plt.plot(x,pl)\n",
    "\n",
    "plt.legend(list(ms))\n",
    "plt.show()"
   ]
  },
  {
   "cell_type": "markdown",
   "metadata": {},
   "source": [
    "### I.III. Linear least-squares using the QR factorization.\n",
    "\n",
    "For the optimal value of $m$ from the previous part, solve the LLS problem using the QR factorization, withou ever forming the normal equations explicitly. For linear algebra, you can use standard library functions (look up `numpy.linalg.solve`, `numpy.linalg.qr` etc) or your code from previous weeks.\n",
    "\n",
    "Compare the results with the results of solving the normal system of equations.\n",
    "\n",
    "(20% of the grade)"
   ]
  },
  {
   "cell_type": "code",
   "execution_count": 5,
   "metadata": {},
   "outputs": [
    {
     "name": "stdout",
     "output_type": "stream",
     "text": [
      "[-1.65423231e-14 -1.09912079e-14  5.15143483e-14 -1.70974346e-14]\n"
     ]
    }
   ],
   "source": [
    "def qr_lls(A, b):\n",
    "    m = A.shape[1]\n",
    "    q, r = np.linalg.qr(A)\n",
    "    f = (q.T @ b)[:m]\n",
    "    return np.linalg.solve(r[:m], f)\n",
    "\n",
    "#comparison\n",
    "c = qr_lls(pol_design_matrix(x,3), y)\n",
    "print(c-coef[2][0])"
   ]
  },
  {
   "cell_type": "markdown",
   "metadata": {},
   "source": [
    "# II. Lagrange interpolation"
   ]
  },
  {
   "cell_type": "markdown",
   "metadata": {},
   "source": [
    "### II.1 \n",
    "\n",
    "Consider the function, $f(x) = x^2 \\cos{x}$. On the interval $x\\in [\\pi/2, \\pi]$, interpolate the function using the Lagrange interpolating polynomial of degree $m$ with $m=1, 2, 3, 4, 5$. Use the uniform mesh. Plot the resulting interpolants together with $f(x)$.\n",
    "\n",
    "(20% of the total grade)"
   ]
  },
  {
   "cell_type": "code",
   "execution_count": 6,
   "metadata": {},
   "outputs": [
    {
     "data": {
      "image/png": "[encoded data removed]",
      "text/plain": [
       "<Figure size 432x288 with 1 Axes>"
      ]
     },
     "metadata": {
      "needs_background": "light"
     },
     "output_type": "display_data"
    }
   ],
   "source": [
    "def lagrange_polynomial(grid, k, x):\n",
    "    poly = 1\n",
    "    for i in range(len(grid)):\n",
    "        if i != k:\n",
    "            poly *= x-grid[i]\n",
    "            poly /= grid[k]-grid[i]    \n",
    "            \n",
    "    return poly\n",
    "\n",
    "def lagrange_interpolation(grid, x, y):\n",
    "    y_interp = np.zeros(len(x))\n",
    "    for i in range(len(grid)):\n",
    "        y_interp += y[i]*lagrange_polynomial(grid,i,x)\n",
    "    return y_interp\n",
    "\n",
    "#plotting\n",
    "f = lambda x:x**2*np.cos(x)\n",
    "x = np.linspace(np.pi/2,np.pi, 50)\n",
    "plt.plot(x,f(x), \"r+\")\n",
    "\n",
    "for m in range(1,6):\n",
    "    grid = np.linspace(np.pi/2,np.pi, m)\n",
    "    plt.plot(x, lagrange_interpolation(grid, x, f(grid)))"
   ]
  },
  {
   "cell_type": "markdown",
   "metadata": {},
   "source": [
    "### II.2. \n",
    "\n",
    "Repeat the previous task using the Chebyshev nodes. Compare the quality of interpolation on a uniform mesh and Chebyshev nodes for $m=3$.\n",
    "\n",
    "(20% of the total grade)"
   ]
  },
  {
   "cell_type": "code",
   "execution_count": 7,
   "metadata": {},
   "outputs": [
    {
     "data": {
      "text/plain": [
       "[<matplotlib.lines.Line2D at 0x21bfffe4d60>]"
      ]
     },
     "execution_count": 7,
     "metadata": {},
     "output_type": "execute_result"
    },
    {
     "data": {
      "image/png": "[encoded data removed]",
      "text/plain": [
       "<Figure size 432x288 with 1 Axes>"
      ]
     },
     "metadata": {
      "needs_background": "light"
     },
     "output_type": "display_data"
    }
   ],
   "source": [
    "def chebishev_nodes(a,b,m):\n",
    "    k = np.array(range(m))\n",
    "    x = np.cos(2*k+1/m)\n",
    "    return (x+1)*(b-a)/2 + a\n",
    "\n",
    "#comparison\n",
    "grid = chebishev_nodes(np.pi/2, np.pi, 3)\n",
    "\n",
    "plt.plot(x,f(x), \"r+\")\n",
    "plt.plot(x, lagrange_interpolation(grid, x, f(grid)))"
   ]
  },
  {
   "cell_type": "code",
   "execution_count": null,
   "metadata": {},
   "outputs": [],
   "source": []
  }
 ],
 "metadata": {
  "kernelspec": {
   "display_name": "Python 3",
   "language": "python",
   "name": "python3"
  },
  "language_info": {
   "codemirror_mode": {
    "name": "ipython",
    "version": 3
   },
   "file_extension": ".py",
   "mimetype": "text/x-python",
   "name": "python",
   "nbconvert_exporter": "python",
   "pygments_lexer": "ipython3",
   "version": "3.8.8"
  }
 },
 "nbformat": 4,
 "nbformat_minor": 2
}
